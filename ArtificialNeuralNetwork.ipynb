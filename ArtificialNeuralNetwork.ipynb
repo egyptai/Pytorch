{
  "nbformat": 4,
  "nbformat_minor": 0,
  "metadata": {
    "colab": {
      "name": "ArtificialNeuralNetwork.ipynb",
      "provenance": [],
      "authorship_tag": "ABX9TyOHvfdU6dLwhUMoDoah7g8z",
      "include_colab_link": true
    },
    "kernelspec": {
      "name": "python3",
      "display_name": "Python 3"
    },
    "language_info": {
      "name": "python"
    }
  },
  "cells": [
    {
      "cell_type": "markdown",
      "metadata": {
        "id": "view-in-github",
        "colab_type": "text"
      },
      "source": [
        "<a href=\"https://colab.research.google.com/github/egyptai/Pytorch/blob/main/ArtificialNeuralNetwork.ipynb\" target=\"_parent\"><img src=\"https://colab.research.google.com/assets/colab-badge.svg\" alt=\"Open In Colab\"/></a>"
      ]
    },
    {
      "cell_type": "code",
      "metadata": {
        "id": "uGP1zmjf8dvR"
      },
      "source": [
        "import torch\n",
        "import torch.nn as nn\n",
        "import torch.optim as optim\n",
        "import torch.nn.init as init\n",
        "\n",
        "num_data = 1000\n",
        "num_epoch = 10000\n",
        "\n",
        "noise = init.normal_(torch.FloatTensor(num_data, 1), std = 1)\n",
        "x = init.uniform_(torch.Tensor(num_data, 1), -15, 15)\n",
        "y = (x**2) + 3\n",
        "y_noise = y + noise\n",
        "\n",
        "model = nn.Sequential(\n",
        "        nn.Linear(1,6),\n",
        "        nn.ReLU(),\n",
        "        nn.Linear(6,10),\n",
        "        nn.ReLU(),\n",
        "        nn.Linear(10,6),\n",
        "        nn.ReLU(),\n",
        "        nn.Linear(6,1),\n",
        "      )\n",
        "\n",
        "loss_func = nn.L1Loss()\n",
        "optimizer = optim.SGD(model.parameters(), lr = 0.0002)\n",
        "\n",
        "loss_array = []\n",
        "for i in range(num_epoch):\n",
        "    optimizer.zero_grad()\n",
        "    output = model(x)\n",
        "\n",
        "loss = loss_func(output, y_noise)\n",
        "loss.backward()\n",
        "optimizer.step()\n",
        "\n",
        "loss_array.append(loss)"
      ],
      "execution_count": 38,
      "outputs": []
    },
    {
      "cell_type": "code",
      "metadata": {
        "colab": {
          "base_uri": "https://localhost:8080/",
          "height": 265
        },
        "id": "pvRgzEVT-ngl",
        "outputId": "03346d75-a500-462d-d01c-fb3957656151"
      },
      "source": [
        "import matplotlib.pyplot as plt\n",
        "\n",
        "plt.plot(loss_array)\n",
        "plt.show()"
      ],
      "execution_count": 41,
      "outputs": [
        {
          "output_type": "display_data",
          "data": {
            "image/png": "[encoded data removed]",
            "text/plain": [
              "<Figure size 432x288 with 1 Axes>"
            ]
          },
          "metadata": {
            "tags": [],
            "needs_background": "light"
          }
        }
      ]
    },
    {
      "cell_type": "code",
      "metadata": {
        "id": "DiOfwkH2FGUk"
      },
      "source": [
        ""
      ],
      "execution_count": null,
      "outputs": []
    }
  ]
}